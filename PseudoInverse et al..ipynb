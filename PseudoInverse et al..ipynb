{
 "cells": [
  {
   "cell_type": "code",
   "execution_count": 1,
   "id": "b6a2e983",
   "metadata": {},
   "outputs": [
    {
     "name": "stderr",
     "output_type": "stream",
     "text": [
      "/home/marcello/anaconda3/lib/python3.9/site-packages/numpy/_core/getlimits.py:545: UserWarning: Signature b'\\x00\\xd0\\xcc\\xcc\\xcc\\xcc\\xcc\\xcc\\xfb\\xbf\\x00\\x00\\x00\\x00\\x00\\x00' for <class 'numpy.longdouble'> does not match any known type: falling back to type probe function.\n",
      "This warnings indicates broken support for the dtype!\n",
      "  machar = _get_machar(dtype)\n"
     ]
    }
   ],
   "source": [
    "import numpy as np\n",
    "import matplotlib.pyplot as plt\n",
    "np.set_printoptions(precision=3,suppress=True,linewidth=120)\n"
   ]
  },
  {
   "cell_type": "code",
   "execution_count": 2,
   "id": "d5027f56",
   "metadata": {},
   "outputs": [
    {
     "name": "stdout",
     "output_type": "stream",
     "text": [
      "Passed\n"
     ]
    }
   ],
   "source": [
    "Nm = 1024\n",
    "max_nm = 128\n",
    "eps = 1.e-8\n",
    "\n",
    "for _ in range(Nm):\n",
    "    n, m = np.random.choice( max_nm, 2)\n",
    "    A = np.random.random((n,m))*2-1\n",
    "    if m > 0 and n > 0 and 0.1 > np.random.random():\n",
    "        A[:,0] = 0.\n",
    "    \n",
    "    # Compute the pseudo inverse using svd\n",
    "    U,Dd,Vt = np.linalg.svd(A)\n",
    "    D  = np.zeros((n,m))\n",
    "    Di = np.zeros((m,n))\n",
    "    for i in range(min(m,n)):\n",
    "        D [i,i] = Dd[i]\n",
    "        Di[i,i] = 1. / Dd[i] if np.abs(Dd[i]) > eps else 0.\n",
    "    Ap = Vt.T @ Di @ U.T\n",
    "\n",
    "    # Check it is correct\n",
    "    try:\n",
    "        # Check Ap is actually the pseudo inverse\n",
    "        assert( np.allclose(A , A @ Ap @ A ))\n",
    "        assert( np.allclose(Ap, Ap @ A @ Ap) )\n",
    "        # Chech AAp and ApA are projectors\n",
    "        assert( np.allclose( A@Ap , A@Ap @ A@Ap))\n",
    "        assert( np.allclose( Ap@A , Ap@A @ Ap@A))\n",
    "        # Check that Ap solves the least square problem\n",
    "        b = np.random.random(n)\n",
    "        x,_,_,_ = np.linalg.lstsq(A,b)\n",
    "        assert(np.allclose(x, Ap@b))\n",
    "    except AssertionError:\n",
    "        print( 'Failed', n, m)\n",
    "        np.set_printoptions(threshold=np.inf)\n",
    "        print(A)\n",
    "        print()\n",
    "        print(Ap)\n",
    "        print()\n",
    "        raise AssertionError\n",
    "print('Passed')"
   ]
  },
  {
   "cell_type": "code",
   "execution_count": 14,
   "id": "10881e1d",
   "metadata": {},
   "outputs": [
    {
     "name": "stdout",
     "output_type": "stream",
     "text": [
      "Passed\n",
      "[[-0.062  0.505 -0.115 -0.793 -0.447  0.955  0.878 -0.124]\n",
      " [ 0.458  0.254  0.035  0.749 -0.983  0.22  -0.021  0.993]\n",
      " [-0.    -0.746  0.606  0.194 -0.23  -0.431  0.209  0.203]\n",
      " [ 0.582  0.988 -0.035 -0.701  0.995  0.135 -0.92  -0.987]\n",
      " [-0.405  0.427  0.582  0.188  0.33  -0.776 -0.152  0.813]\n",
      " [ 0.784 -0.407  0.514 -0.722 -0.42  -0.851 -0.525 -0.476]\n",
      " [-0.824 -0.324 -0.281  0.658  0.022 -0.605 -0.487  0.595]\n",
      " [ 0.66  -0.352  0.962 -0.63  -0.176  0.749  0.248  0.817]]\n",
      "[[ 1.328  0.063  0.438 -0.448 -0.276  0.277 -0.261 -0.257]\n",
      " [ 0.063  1.442 -0.27  -0.173  0.33   0.3   -0.148 -0.146]\n",
      " [ 0.438 -0.27   1.145 -0.377  0.007 -0.213  0.063  0.471]\n",
      " [-0.448 -0.173 -0.377  1.489 -0.169 -0.339 -0.094  0.603]\n",
      " [-0.276  0.33   0.007 -0.169  1.382 -0.085 -0.423 -0.466]\n",
      " [ 0.277  0.3   -0.213 -0.339 -0.085  1.654  0.589  0.051]\n",
      " [-0.261 -0.148  0.063 -0.094 -0.423  0.589  1.262  0.191]\n",
      " [-0.257 -0.146  0.471  0.603 -0.466  0.051  0.191  1.732]]\n",
      "[[2.736 0.    0.    0.    0.    0.    0.    0.   ]\n",
      " [0.    2.391 0.    0.    0.    0.    0.    0.   ]\n",
      " [0.    0.    2.018 0.    0.    0.    0.    0.   ]\n",
      " [0.    0.    0.    1.468 0.    0.    0.    0.   ]\n",
      " [0.    0.    0.    0.    1.266 0.    0.    0.   ]\n",
      " [0.    0.    0.    0.    0.    0.867 0.    0.   ]\n",
      " [0.    0.    0.    0.    0.    0.    0.541 0.   ]\n",
      " [0.    0.    0.    0.    0.    0.    0.    0.146]]\n"
     ]
    }
   ],
   "source": [
    "# UP decomposition\n",
    "n = 8\n",
    "A = np.random.random((n,n))*2-1\n",
    "if m > 0 and n > 0 and 0.1 > np.random.random():\n",
    "    A[:,0] = 0.\n",
    "\n",
    "# Compute the polar using svd\n",
    "W,D,Vt = np.linalg.svd(A)\n",
    "U = W @ Vt\n",
    "P = Vt.T @ np.diag(D) @ Vt\n",
    "\n",
    "assert(np.allclose(A, U@P))\n",
    "print('Passed')\n",
    "\n",
    "print(A)\n",
    "print(P)\n",
    "print(np.diag(D))\n",
    "\n"
   ]
  },
  {
   "cell_type": "code",
   "execution_count": 77,
   "id": "e29650b4",
   "metadata": {},
   "outputs": [
    {
     "name": "stdout",
     "output_type": "stream",
     "text": [
      "tmp\n",
      "[[ 1.328  0.063  0.438 -0.448 -0.276  0.277 -0.261 -0.257]\n",
      " [ 0.063  1.442 -0.27  -0.173  0.33   0.3   -0.148 -0.146]\n",
      " [ 0.438 -0.27   1.145 -0.377  0.007 -0.213  0.063  0.471]\n",
      " [-0.448 -0.173 -0.377  1.489 -0.169 -0.339 -0.094  0.603]\n",
      " [-0.276  0.33   0.007 -0.169  1.382 -0.085 -0.423 -0.466]\n",
      " [ 0.277  0.3   -0.213 -0.339 -0.085  1.654  0.589  0.051]\n",
      " [-0.261 -0.148  0.063 -0.094 -0.423  0.589  1.262  0.191]\n",
      " [-0.257 -0.146  0.471  0.603 -0.466  0.051  0.191  1.732]]\n",
      "[[-0.067  0.085  0.587 -0.203 -0.428  0.353 -0.434 -0.337]\n",
      " [ 0.085  0.275 -0.267 -0.132  0.255  0.184 -0.102  0.025]\n",
      " [ 0.587 -0.267 -0.341 -0.474  0.257 -0.366  0.226  0.632]\n",
      " [-0.203 -0.132 -0.474  0.135 -0.056 -0.267 -0.068  0.512]\n",
      " [-0.428  0.255  0.257 -0.056  0.079  0.084 -0.434 -0.406]\n",
      " [ 0.353  0.184 -0.366 -0.267  0.084  0.266  0.548  0.189]\n",
      " [-0.434 -0.102  0.226 -0.068 -0.434  0.548 -0.061 -0.016]\n",
      " [-0.337  0.025  0.632  0.512 -0.406  0.189 -0.016  0.231]]\n",
      "[[ 1.328  0.063  0.438 -0.448 -0.276  0.277 -0.261 -0.257]\n",
      " [ 0.063  1.442 -0.27  -0.173  0.33   0.3   -0.148 -0.146]\n",
      " [ 0.438 -0.27   1.145 -0.377  0.007 -0.213  0.063  0.471]\n",
      " [-0.448 -0.173 -0.377  1.489 -0.169 -0.339 -0.094  0.603]\n",
      " [-0.276  0.33   0.007 -0.169  1.382 -0.085 -0.423 -0.466]\n",
      " [ 0.277  0.3   -0.213 -0.339 -0.085  1.654  0.589  0.051]\n",
      " [-0.261 -0.148  0.063 -0.094 -0.423  0.589  1.262  0.191]\n",
      " [-0.257 -0.146  0.471  0.603 -0.466  0.051  0.191  1.732]]\n"
     ]
    }
   ],
   "source": [
    "# Log of matrix\n",
    "# we use P since it is >= 0\n",
    "\n",
    "av = np.linalg.eigvals(A)\n",
    "uv = np.linalg.eigvals(U)\n",
    "pv = np.linalg.eigvals(P)\n",
    "\n",
    "assert( np.isclose( np.prod(av) , np.prod(uv) * np.prod(pv) ) )\n",
    "\n",
    "\n",
    "pu,pv = np.linalg.eigh(P)\n",
    "vp = np.linalg.inv(pv)\n",
    "tmp = vp @ P @ pv\n",
    "print('tmp')\n",
    "for i in range(n):\n",
    "    if ( tmp[i,i] > 0 ):\n",
    "        tmp[i,i] = np.log(tmp[i,i])\n",
    "log_p = pv @ tmp @ vp\n",
    "\n",
    "exp_log_p = np.zeros_like(P)\n",
    "pn = np.eye(n)\n",
    "fac_i = 1\n",
    "for i in range(100):\n",
    "    exp_log_p += pn / fac_i\n",
    "    tmp = np.eye(n)\n",
    "    fac_i *= i+1\n",
    "    pn @= log_p\n",
    "\n",
    "print(P)\n",
    "print(log_p)\n",
    "print(exp_log_p)\n",
    "assert( np.allclose( P , exp_log_p) )"
   ]
  },
  {
   "cell_type": "code",
   "execution_count": 44,
   "id": "44a0b769",
   "metadata": {},
   "outputs": [
    {
     "data": {
      "text/plain": [
       "array([[ 0.146,  0.   , -0.   ,  0.   ,  0.   , -0.   , -0.   , -0.   ],\n",
       "       [ 0.   ,  0.541, -0.   , -0.   , -0.   , -0.   , -0.   , -0.   ],\n",
       "       [-0.   ,  0.   ,  0.867,  0.   ,  0.   , -0.   ,  0.   , -0.   ],\n",
       "       [ 0.   , -0.   , -0.   ,  1.266, -0.   , -0.   , -0.   , -0.   ],\n",
       "       [ 0.   ,  0.   ,  0.   , -0.   ,  1.468,  0.   ,  0.   ,  0.   ],\n",
       "       [-0.   , -0.   , -0.   , -0.   , -0.   ,  2.018, -0.   ,  0.   ],\n",
       "       [-0.   , -0.   , -0.   , -0.   ,  0.   ,  0.   ,  2.391,  0.   ],\n",
       "       [-0.   , -0.   ,  0.   , -0.   , -0.   ,  0.   ,  0.   ,  2.736]])"
      ]
     },
     "execution_count": 44,
     "metadata": {},
     "output_type": "execute_result"
    }
   ],
   "source": [
    "tmp"
   ]
  },
  {
   "cell_type": "code",
   "execution_count": null,
   "id": "36247c74",
   "metadata": {},
   "outputs": [],
   "source": []
  }
 ],
 "metadata": {
  "kernelspec": {
   "display_name": "Python 3 (ipykernel)",
   "language": "python",
   "name": "python3"
  },
  "language_info": {
   "codemirror_mode": {
    "name": "ipython",
    "version": 3
   },
   "file_extension": ".py",
   "mimetype": "text/x-python",
   "name": "python",
   "nbconvert_exporter": "python",
   "pygments_lexer": "ipython3",
   "version": "3.9.12"
  }
 },
 "nbformat": 4,
 "nbformat_minor": 5
}
