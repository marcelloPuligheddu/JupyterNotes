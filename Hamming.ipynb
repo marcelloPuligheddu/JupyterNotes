{
 "cells": [
  {
   "cell_type": "code",
   "execution_count": 1,
   "id": "89cd3dcf",
   "metadata": {},
   "outputs": [],
   "source": [
    "import numpy as np"
   ]
  },
  {
   "cell_type": "code",
   "execution_count": 49,
   "id": "6eb82dd8",
   "metadata": {},
   "outputs": [
    {
     "name": "stdout",
     "output_type": "stream",
     "text": [
      "s 0 0 0 0 0 0\n",
      "0\n",
      "ck1:  True\n",
      "[1 0 0 1 1 0 1 0 1 0 1 1 0 0 0 1 1 0 1 1 0 0 0 1 1 0 1 0 0 1 1 0]\n",
      "[1 0 1 1 1 0 1 0 1 0 1 1 0 0 0 1 1 0 1 1 0 0 0 1 1 0 1 0 1 1 1 0]\n",
      "s 0 0 1 1 1 1\n",
      "30\n",
      "ck2:  False\n"
     ]
    }
   ],
   "source": [
    "\n",
    "\n",
    "def apply_noise( msg, p ):\n",
    "    for i in range(len(msg)):\n",
    "        if p > np.random.uniform():\n",
    "            msg[i] = 1 - msg[i]\n",
    "\n",
    "def is_valid( msg ):\n",
    "    \n",
    "    if len(msg) != 32: return False\n",
    "    \n",
    "    idx = np.arange(32)\n",
    "    sum_0  = np.sum( msg[np.where( idx%1  -  0 + 1 >  0 )] ) % 2\n",
    "    sum_1  = np.sum( msg[np.where( idx%2  -  1 + 1 >  0 )] ) % 2\n",
    "    sum_2  = np.sum( msg[np.where( idx%4  -  2 + 1 > 0 )] ) % 2\n",
    "    sum_4  = np.sum( msg[np.where( idx%8  -  4 + 1 > 0 )] ) % 2\n",
    "    sum_8  = np.sum( msg[np.where( idx%16 -  8 + 1 > 0 )] ) % 2\n",
    "    sum_16 = np.sum( msg[np.where( idx%32 - 16 + 1 > 0 )] ) % 2\n",
    "    \n",
    "    print ( 's', sum_0, sum_1, sum_2, sum_4, sum_8, sum_16 )\n",
    "    \n",
    "    print( sum_0*0 + sum_1*1 + sum_2*2 + sum_4*4 + sum_8*8 + sum_16*16 )\n",
    "    \n",
    "    return sum_1 == 0 and sum_2 == 0 and sum_4 == 0 and sum_8 == 0 and sum_16 == 0\n",
    "\n",
    "def add_parity( msg ):\n",
    "    \n",
    "    idx = np.arange(32)\n",
    "    msg[16] = np.sum( msg[np.where( idx%32 - 16 + 1 > 0 )] ) % 2\n",
    "    msg[8]  = np.sum( msg[np.where( idx%16 -  8 + 1 > 0 )] ) % 2\n",
    "    msg[4]  = np.sum( msg[np.where( idx%8  -  4 + 1 > 0 )] ) % 2\n",
    "    msg[2]  = np.sum( msg[np.where( idx%4  -  2 + 1 > 0 )] ) % 2\n",
    "    msg[1]  = np.sum( msg[np.where( idx%2  -  1 + 1 > 0 )] ) % 2\n",
    "    msg[0]  = np.sum( msg[np.where( idx%1  -  0 + 1 > 0 )] ) % 2\n",
    "    \n",
    "\n",
    "msg = np.random.choice([0,1],32)\n",
    "msg[[0,1,2,4,8,16]] = 0\n",
    "add_parity( msg )\n",
    "print('ck1: ', is_valid(msg))\n",
    "print(str(msg))\n",
    "apply_noise(msg,0.01)\n",
    "print(str(msg))\n",
    "print('ck2: ', is_valid(msg))\n"
   ]
  },
  {
   "cell_type": "code",
   "execution_count": 40,
   "id": "2ee6e4ff",
   "metadata": {},
   "outputs": [
    {
     "data": {
      "text/plain": [
       "(array([ 0,  1,  2,  3,  4,  5,  6,  7,  8,  9, 10, 11, 12, 13, 14, 15, 16,\n",
       "        17, 18, 19, 20, 21, 22, 23, 24, 25, 26, 27, 28, 29, 30, 31]),)"
      ]
     },
     "execution_count": 40,
     "metadata": {},
     "output_type": "execute_result"
    }
   ],
   "source": [
    "idx = np.arange(32)\n",
    "np.where( idx%1  -  0 + 1 > 0 )\n"
   ]
  },
  {
   "cell_type": "code",
   "execution_count": 35,
   "id": "1b2c02e6",
   "metadata": {},
   "outputs": [
    {
     "data": {
      "text/plain": [
       "array([False, False,  True,  True, False, False,  True,  True, False,\n",
       "       False,  True,  True, False, False,  True,  True, False, False,\n",
       "        True,  True, False, False,  True,  True, False, False,  True,\n",
       "        True, False, False,  True,  True])"
      ]
     },
     "execution_count": 35,
     "metadata": {},
     "output_type": "execute_result"
    }
   ],
   "source": [
    "idx%4-2+1>0 "
   ]
  },
  {
   "cell_type": "code",
   "execution_count": null,
   "id": "2913aaa5",
   "metadata": {},
   "outputs": [],
   "source": []
  }
 ],
 "metadata": {
  "kernelspec": {
   "display_name": "Python 3 (ipykernel)",
   "language": "python",
   "name": "python3"
  },
  "language_info": {
   "codemirror_mode": {
    "name": "ipython",
    "version": 3
   },
   "file_extension": ".py",
   "mimetype": "text/x-python",
   "name": "python",
   "nbconvert_exporter": "python",
   "pygments_lexer": "ipython3",
   "version": "3.9.12"
  }
 },
 "nbformat": 4,
 "nbformat_minor": 5
}
