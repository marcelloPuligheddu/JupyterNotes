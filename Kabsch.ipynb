{
 "cells": [
  {
   "cell_type": "code",
   "execution_count": 1,
   "id": "b6a2e983",
   "metadata": {},
   "outputs": [
    {
     "name": "stderr",
     "output_type": "stream",
     "text": [
      "/home/marcello/anaconda3/lib/python3.9/site-packages/numpy/_core/getlimits.py:545: UserWarning: Signature b'\\x00\\xd0\\xcc\\xcc\\xcc\\xcc\\xcc\\xcc\\xfb\\xbf\\x00\\x00\\x00\\x00\\x00\\x00' for <class 'numpy.longdouble'> does not match any known type: falling back to type probe function.\n",
      "This warnings indicates broken support for the dtype!\n",
      "  machar = _get_machar(dtype)\n"
     ]
    }
   ],
   "source": [
    "import numpy as np\n",
    "import matplotlib.pyplot as plt\n"
   ]
  },
  {
   "cell_type": "code",
   "execution_count": 2,
   "id": "d5027f56",
   "metadata": {},
   "outputs": [
    {
     "name": "stdout",
     "output_type": "stream",
     "text": [
      "[[ 0.46347718  0.88610886]\n",
      " [-0.88610886  0.46347718]]\n",
      "-0.9999999999999998 0.9999999999999996\n"
     ]
    },
    {
     "data": {
      "image/png": "[encoded data removed]",
      "text/plain": [
       "<Figure size 432x288 with 1 Axes>"
      ]
     },
     "metadata": {
      "needs_background": "light"
     },
     "output_type": "display_data"
    }
   ],
   "source": [
    "\n",
    "n, m = 128, 2\n",
    "A = np.random.random((n,m))*2-1\n",
    "\n",
    "# random special unitary matrix\n",
    "H = np.random.random((m,m))*2-1\n",
    "R0,_ = np.linalg.qr(H) # random U\n",
    "d = np.linalg.det(R0)\n",
    "R0[0] *= d             # force from U to SU\n",
    "    \n",
    "print(R0)\n",
    "print(d, np.linalg.det(R0))\n",
    "scatter_factor = 0.1\n",
    "shifted_factor = 0.1\n",
    "# new set of position:\n",
    "# start with B = A, then rotate, scatter and move\n",
    "B = A \n",
    "B = (R0@B.T).T\n",
    "B += (np.random.random((n,m))*2-1) * scatter_factor\n",
    "B += (np.random.random(m)*2-1) * shifted_factor\n",
    "\n",
    "np.set_printoptions(precision=3,suppress=True,linewidth=120)\n",
    "plt.scatter(A[:,0],A[:,1],c='r')\n",
    "plt.scatter(B[:,0],B[:,1],c='b')\n",
    "plt.axis('square')\n",
    "plt.show()"
   ]
  },
  {
   "cell_type": "code",
   "execution_count": 3,
   "id": "a77f833c",
   "metadata": {},
   "outputs": [],
   "source": [
    "cA = np.sum(A,axis=0) / n\n",
    "cB = np.sum(B,axis=0) / n\n",
    "\n",
    "Bt = B - cB\n",
    "At = A - cA"
   ]
  },
  {
   "cell_type": "code",
   "execution_count": 4,
   "id": "c5cca2f9",
   "metadata": {
    "scrolled": false
   },
   "outputs": [
    {
     "name": "stdout",
     "output_type": "stream",
     "text": [
      "[[ 0.467 -0.884]\n",
      " [ 0.884  0.467]]\n"
     ]
    },
    {
     "data": {
      "image/png": "[encoded data removed]",
      "text/plain": [
       "<Figure size 432x288 with 1 Axes>"
      ]
     },
     "metadata": {
      "needs_background": "light"
     },
     "output_type": "display_data"
    }
   ],
   "source": [
    "\n",
    "H = At.T@Bt\n",
    "U,S,VT = np.linalg.svd(H)\n",
    "d = np.eye(m); #d[m-1,m-1] = np.linalg.det(U@VT.T)\n",
    "R = U@d@VT\n",
    "\n",
    "Br = (R@Bt.T).T\n",
    "\n",
    "print(R)\n",
    "plt.scatter(At[:,0],At[:,1],c='r')\n",
    "#plt.scatter(Bt[:,0],Bt[:,1],c='b')\n",
    "plt.scatter(Br[:,0],Br[:,1],c='g')\n",
    "plt.show()"
   ]
  },
  {
   "cell_type": "code",
   "execution_count": 5,
   "id": "8914dc3f",
   "metadata": {},
   "outputs": [
    {
     "name": "stdout",
     "output_type": "stream",
     "text": [
      "94.8937719480578\n",
      "93.95684412685847\n",
      "0.04836312025939481\n"
     ]
    }
   ],
   "source": [
    "AB0 = A-B\n",
    "ABt = At-Bt\n",
    "ABr = At-Br\n",
    "print( np.sum(AB0**2) )\n",
    "print( np.sum(ABt**2) )\n",
    "print( np.mean(np.sqrt(ABr**2) ) )"
   ]
  },
  {
   "cell_type": "code",
   "execution_count": 6,
   "id": "ad9164f5",
   "metadata": {},
   "outputs": [
    {
     "name": "stdout",
     "output_type": "stream",
     "text": [
      "Passed\n"
     ]
    }
   ],
   "source": [
    "# Check we did apply a rigid transformation to B\n",
    "i,j = np.random.choice(n,2)\n",
    "for i in range(n):\n",
    "    for j in range(i):\n",
    "        d0 = B[i]-B[j]\n",
    "        dt = Bt[i]-Bt[j]\n",
    "        dr = Br[i]-Br[j]\n",
    "        \n",
    "        assert( np.allclose(np.sum(d0**2),np.sum(dt**2)))\n",
    "        assert( np.allclose(np.sum(d0**2),np.sum(dr**2)))\n",
    "print('Passed')"
   ]
  },
  {
   "cell_type": "code",
   "execution_count": 7,
   "id": "f8b518a0",
   "metadata": {},
   "outputs": [
    {
     "data": {
      "text/plain": [
       "array([[ 1.   ,  0.004],\n",
       "       [-0.004,  1.   ]])"
      ]
     },
     "execution_count": 7,
     "metadata": {},
     "output_type": "execute_result"
    }
   ],
   "source": [
    "R @ R0"
   ]
  },
  {
   "cell_type": "code",
   "execution_count": 8,
   "id": "d7da2be3",
   "metadata": {},
   "outputs": [
    {
     "data": {
      "text/plain": [
       "array([[ 0.003,  0.002],\n",
       "       [-0.002,  0.003]])"
      ]
     },
     "execution_count": 8,
     "metadata": {},
     "output_type": "execute_result"
    }
   ],
   "source": [
    "R - R0.T"
   ]
  },
  {
   "cell_type": "code",
   "execution_count": 9,
   "id": "a3ee9291",
   "metadata": {},
   "outputs": [
    {
     "data": {
      "text/plain": [
       "(array([[ 0.467,  0.884],\n",
       "        [-0.884,  0.467]]),\n",
       " array([[ 0.463,  0.886],\n",
       "        [-0.886,  0.463]]))"
      ]
     },
     "execution_count": 9,
     "metadata": {},
     "output_type": "execute_result"
    }
   ],
   "source": [
    "R.T,R0"
   ]
  },
  {
   "cell_type": "code",
   "execution_count": 10,
   "id": "94755e7e",
   "metadata": {},
   "outputs": [
    {
     "data": {
      "text/plain": [
       "np.float64(0.9999999999999996)"
      ]
     },
     "execution_count": 10,
     "metadata": {},
     "output_type": "execute_result"
    }
   ],
   "source": [
    "np.linalg.det(R0)"
   ]
  },
  {
   "cell_type": "code",
   "execution_count": 11,
   "id": "9eea4174",
   "metadata": {},
   "outputs": [
    {
     "data": {
      "text/plain": [
       "(array([ 2., 21., 21., 25., 43., 35., 39., 28., 30., 12.]),\n",
       " array([-0.139, -0.114, -0.088, -0.063, -0.037, -0.012,  0.013,  0.039,  0.064,  0.09 ,  0.115]),\n",
       " <BarContainer object of 10 artists>)"
      ]
     },
     "execution_count": 11,
     "metadata": {},
     "output_type": "execute_result"
    },
    {
     "data": {
      "image/png": "[encoded data removed]",
      "text/plain": [
       "<Figure size 432x288 with 1 Axes>"
      ]
     },
     "metadata": {
      "needs_background": "light"
     },
     "output_type": "display_data"
    }
   ],
   "source": [
    "plt.hist( ABr.flatten() )"
   ]
  },
  {
   "cell_type": "code",
   "execution_count": null,
   "id": "77e8c06b",
   "metadata": {},
   "outputs": [],
   "source": []
  }
 ],
 "metadata": {
  "kernelspec": {
   "display_name": "Python 3 (ipykernel)",
   "language": "python",
   "name": "python3"
  },
  "language_info": {
   "codemirror_mode": {
    "name": "ipython",
    "version": 3
   },
   "file_extension": ".py",
   "mimetype": "text/x-python",
   "name": "python",
   "nbconvert_exporter": "python",
   "pygments_lexer": "ipython3",
   "version": "3.9.12"
  }
 },
 "nbformat": 4,
 "nbformat_minor": 5
}
